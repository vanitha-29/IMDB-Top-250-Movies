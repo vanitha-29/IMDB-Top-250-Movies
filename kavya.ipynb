{
 "cells": [
  {
   "cell_type": "code",
   "execution_count": 1,
   "id": "4c2fe635",
   "metadata": {},
   "outputs": [
    {
     "name": "stdout",
     "output_type": "stream",
     "text": [
      "Requirement already satisfied: dash in d:\\new folder\\lib\\site-packages (2.9.1)\n",
      "Requirement already satisfied: dash-core-components==2.0.0 in d:\\new folder\\lib\\site-packages (from dash) (2.0.0)\n",
      "Requirement already satisfied: plotly>=5.0.0 in d:\\new folder\\lib\\site-packages (from dash) (5.9.0)\n",
      "Requirement already satisfied: dash-html-components==2.0.0 in d:\\new folder\\lib\\site-packages (from dash) (2.0.0)\n",
      "Requirement already satisfied: dash-table==5.0.0 in d:\\new folder\\lib\\site-packages (from dash) (5.0.0)\n",
      "Requirement already satisfied: Flask>=1.0.4 in d:\\new folder\\lib\\site-packages (from dash) (1.1.2)\n",
      "Requirement already satisfied: Jinja2>=2.10.1 in d:\\new folder\\lib\\site-packages (from Flask>=1.0.4->dash) (2.11.3)\n",
      "Requirement already satisfied: itsdangerous>=0.24 in d:\\new folder\\lib\\site-packages (from Flask>=1.0.4->dash) (2.0.1)\n",
      "Requirement already satisfied: Werkzeug>=0.15 in d:\\new folder\\lib\\site-packages (from Flask>=1.0.4->dash) (2.0.3)\n",
      "Requirement already satisfied: click>=5.1 in d:\\new folder\\lib\\site-packages (from Flask>=1.0.4->dash) (8.0.4)\n",
      "Requirement already satisfied: tenacity>=6.2.0 in d:\\new folder\\lib\\site-packages (from plotly>=5.0.0->dash) (8.0.1)\n",
      "Requirement already satisfied: colorama in d:\\new folder\\lib\\site-packages (from click>=5.1->Flask>=1.0.4->dash) (0.4.5)\n",
      "Requirement already satisfied: MarkupSafe>=0.23 in d:\\new folder\\lib\\site-packages (from Jinja2>=2.10.1->Flask>=1.0.4->dash) (2.0.1)\n",
      "Note: you may need to restart the kernel to use updated packages.\n"
     ]
    }
   ],
   "source": [
    "pip install dash"
   ]
  },
  {
   "cell_type": "code",
   "execution_count": 2,
   "id": "7bf2eb27",
   "metadata": {},
   "outputs": [
    {
     "name": "stdout",
     "output_type": "stream",
     "text": [
      "Requirement already satisfied: pandas in d:\\new folder\\lib\\site-packages (1.4.4)\n",
      "Requirement already satisfied: pytz>=2020.1 in d:\\new folder\\lib\\site-packages (from pandas) (2022.1)\n",
      "Requirement already satisfied: numpy>=1.18.5 in d:\\new folder\\lib\\site-packages (from pandas) (1.21.5)\n",
      "Requirement already satisfied: python-dateutil>=2.8.1 in d:\\new folder\\lib\\site-packages (from pandas) (2.8.2)\n",
      "Requirement already satisfied: six>=1.5 in d:\\new folder\\lib\\site-packages (from python-dateutil>=2.8.1->pandas) (1.16.0)\n",
      "Note: you may need to restart the kernel to use updated packages.\n"
     ]
    }
   ],
   "source": [
    "pip install pandas"
   ]
  },
  {
   "cell_type": "code",
   "execution_count": 3,
   "id": "f1830f14",
   "metadata": {},
   "outputs": [
    {
     "name": "stdout",
     "output_type": "stream",
     "text": [
      "Requirement already satisfied: seaborn in d:\\new folder\\lib\\site-packages (0.11.2)\n",
      "Requirement already satisfied: pandas>=0.23 in d:\\new folder\\lib\\site-packages (from seaborn) (1.4.4)\n",
      "Requirement already satisfied: numpy>=1.15 in d:\\new folder\\lib\\site-packages (from seaborn) (1.21.5)\n",
      "Requirement already satisfied: scipy>=1.0 in d:\\new folder\\lib\\site-packages (from seaborn) (1.9.1)\n",
      "Requirement already satisfied: matplotlib>=2.2 in d:\\new folder\\lib\\site-packages (from seaborn) (3.5.2)\n",
      "Requirement already satisfied: packaging>=20.0 in d:\\new folder\\lib\\site-packages (from matplotlib>=2.2->seaborn) (21.3)\n",
      "Requirement already satisfied: cycler>=0.10 in d:\\new folder\\lib\\site-packages (from matplotlib>=2.2->seaborn) (0.11.0)\n",
      "Requirement already satisfied: pillow>=6.2.0 in d:\\new folder\\lib\\site-packages (from matplotlib>=2.2->seaborn) (9.2.0)\n",
      "Requirement already satisfied: kiwisolver>=1.0.1 in d:\\new folder\\lib\\site-packages (from matplotlib>=2.2->seaborn) (1.4.2)\n",
      "Requirement already satisfied: fonttools>=4.22.0 in d:\\new folder\\lib\\site-packages (from matplotlib>=2.2->seaborn) (4.25.0)\n",
      "Requirement already satisfied: pyparsing>=2.2.1 in d:\\new folder\\lib\\site-packages (from matplotlib>=2.2->seaborn) (3.0.9)\n",
      "Requirement already satisfied: python-dateutil>=2.7 in d:\\new folder\\lib\\site-packages (from matplotlib>=2.2->seaborn) (2.8.2)\n",
      "Requirement already satisfied: pytz>=2020.1 in d:\\new folder\\lib\\site-packages (from pandas>=0.23->seaborn) (2022.1)\n",
      "Requirement already satisfied: six>=1.5 in d:\\new folder\\lib\\site-packages (from python-dateutil>=2.7->matplotlib>=2.2->seaborn) (1.16.0)\n",
      "Note: you may need to restart the kernel to use updated packages.\n"
     ]
    }
   ],
   "source": [
    "pip install seaborn"
   ]
  },
  {
   "cell_type": "code",
   "execution_count": 4,
   "id": "768403fc",
   "metadata": {},
   "outputs": [
    {
     "name": "stderr",
     "output_type": "stream",
     "text": [
      "C:\\Users\\LENOVO\\AppData\\Local\\Temp\\ipykernel_9820\\2864444512.py:3: UserWarning: \n",
      "The dash_core_components package is deprecated. Please replace\n",
      "`import dash_core_components as dcc` with `from dash import dcc`\n",
      "  import dash_core_components as dcc\n",
      "C:\\Users\\LENOVO\\AppData\\Local\\Temp\\ipykernel_9820\\2864444512.py:4: UserWarning: \n",
      "The dash_html_components package is deprecated. Please replace\n",
      "`import dash_html_components as html` with `from dash import html`\n",
      "  import dash_html_components as html\n"
     ]
    }
   ],
   "source": [
    "import pandas as pd\n",
    "import dash\n",
    "import dash_core_components as dcc\n",
    "import dash_html_components as html\n",
    "import plotly.express as px\n",
    "import seaborn as sns\n",
    "import matplotlib.pyplot as plt\n",
    "from dash.dependencies import Input, Output"
   ]
  },
  {
   "cell_type": "code",
   "execution_count": 5,
   "id": "c72bac8d",
   "metadata": {},
   "outputs": [],
   "source": [
    "df = pd.read_csv('IMDB Top 250 Movies.csv')\n",
    "app = dash.Dash(__name__)"
   ]
  },
  {
   "cell_type": "code",
   "execution_count": 6,
   "id": "6026d35e",
   "metadata": {},
   "outputs": [],
   "source": [
    "app.layout = html.Div([\n",
    "    html.H1('IMDB Top 250 Movies Dashboard'),\n",
    "    html.Label('Select a Visualization'),\n",
    "    dcc.Dropdown(\n",
    "        id='visualization-dropdown',\n",
    "        options=[\n",
    "            {'label': 'Histogram', 'value': 'histogram'},\n",
    "            {'label': 'Boxplot', 'value': 'boxplot'},\n",
    "            {'label': 'Scatter Plot', 'value': 'scatter'},\n",
    "            {'label': 'Bar Chart', 'value': 'bar'},\n",
    "            {'label': 'Mosaic Plot', 'value': 'mosaic'}\n",
    "        ],\n",
    "        value='histogram'\n",
    "    ),\n",
    "    dcc.Graph(id='visualization-graph')\n",
    "])"
   ]
  },
  {
   "cell_type": "code",
   "execution_count": 7,
   "id": "ca323195",
   "metadata": {},
   "outputs": [],
   "source": [
    "@app.callback(Output('visualization-graph', 'figure'), [Input('visualization-dropdown', 'value')])\n",
    "def update_graph(selected_visualization):\n",
    "    if selected_visualization == 'histogram':\n",
    "        fig = px.histogram(df, x='rating', nbins=20, title='Distribution of Movie Ratings')\n",
    "    elif selected_visualization == 'boxplot':\n",
    "        fig = px.box(df, y='rating', title='Boxplot of Movie Ratings')\n",
    "    elif selected_visualization == 'scatter':\n",
    "        fig = px.scatter(df, x='year', y='rating', title='Scatter Plot of Votes vs Rating')\n",
    "    elif selected_visualization == 'bar':\n",
    "        df_genre = df.groupby('genre')['rating'].mean().reset_index()\n",
    "        fig = px.bar(df_genre, x='genre', y='rating', title='Mean Rating by Genre')\n",
    "    elif selected_visualization == 'mosaic':\n",
    "        df['budget'] = pd.qcut(df['budget (million $)'], q=4)\n",
    "        df_mosaic = df.groupby(['genre', 'rating']).size().reset_index(name='Count')\n",
    "        fig = px.imshow(df_mosaic.pivot(index='budget', columns='rating', values='Count'),\n",
    "                        color_continuous_scale='Blues', title='Mosaic Plot of Budget and Content Rating')\n",
    "        fig.update_xaxes(title='rating')\n",
    "        fig.update_yaxes(title='budget')\n",
    "    return fig\n"
   ]
  },
  {
   "cell_type": "code",
   "execution_count": null,
   "id": "45d42857",
   "metadata": {},
   "outputs": [
    {
     "name": "stdout",
     "output_type": "stream",
     "text": [
      "Dash is running on http://127.0.0.1:4050/\n",
      "\n",
      " * Serving Flask app \"__main__\" (lazy loading)\n",
      " * Environment: production\n",
      "\u001b[31m   WARNING: This is a development server. Do not use it in a production deployment.\u001b[0m\n",
      "\u001b[2m   Use a production WSGI server instead.\u001b[0m\n",
      " * Debug mode: off\n"
     ]
    },
    {
     "name": "stderr",
     "output_type": "stream",
     "text": [
      " * Running on http://127.0.0.1:4050/ (Press CTRL+C to quit)\n"
     ]
    }
   ],
   "source": [
    "if __name__ == '__main__':\n",
    "    app.run_server(port=4050)\n"
   ]
  },
  {
   "cell_type": "code",
   "execution_count": null,
   "id": "a9c7628c",
   "metadata": {},
   "outputs": [],
   "source": []
  },
  {
   "cell_type": "code",
   "execution_count": null,
   "id": "e6b7fc22",
   "metadata": {},
   "outputs": [],
   "source": []
  }
 ],
 "metadata": {
  "kernelspec": {
   "display_name": "Python 3 (ipykernel)",
   "language": "python",
   "name": "python3"
  },
  "language_info": {
   "codemirror_mode": {
    "name": "ipython",
    "version": 3
   },
   "file_extension": ".py",
   "mimetype": "text/x-python",
   "name": "python",
   "nbconvert_exporter": "python",
   "pygments_lexer": "ipython3",
   "version": "3.9.13"
  }
 },
 "nbformat": 4,
 "nbformat_minor": 5
}
